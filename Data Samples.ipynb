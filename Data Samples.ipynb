{
 "cells": [
  {
   "cell_type": "code",
   "execution_count": 1,
   "id": "4f779d54",
   "metadata": {},
   "outputs": [],
   "source": [
    "# Подключаем необходимые для анализа библиотеки\n",
    "\n",
    "import pandas as pd\n",
    "import scipy as sp\n",
    "import matplotlib.pyplot as plt\n",
    "from scipy.stats import norm\n",
    "import math as ms\n",
    "import numpy as np"
   ]
  },
  {
   "cell_type": "code",
   "execution_count": 2,
   "id": "12525964",
   "metadata": {},
   "outputs": [],
   "source": [
    "def normal_plot(df, array):\n",
    "    voters = array\n",
    "    x = voters\n",
    "    \n",
    "    source = {\"Index\": [\"ind\"]*len(x), \"voters\" : x} # Индексируем сырой массив из кол-ва избирателей представленной выборки\n",
    "\n",
    "    df = pd.DataFrame(source)\n",
    "\n",
    "    df_mean = np.mean(df[\"voters\"])\n",
    "    print('\\nСреднее значение данной выборки = ', df_mean)\n",
    "    \n",
    "    df_std = np.std(df[\"voters\"])\n",
    "    print('\\nНормальное отклонение  данной выборки = ', df_std)\n",
    "    \n",
    "    # Расчёт Probability Density Function/Функция плотности вероятности (array, mu, sigma)\n",
    "    # Применяется на сортированный массив\n",
    "    pdf = norm.pdf(df[\"voters\"].sort_values(), df_mean, df_std)\n",
    "    \n",
    "    plt.plot(df[\"voters\"].sort_values(), pdf)\n",
    "    plt.xlim([-1200,4000])  \n",
    "    plt.xlabel(\"Кол-во избирателей\", size=16)    \n",
    "    plt.ylabel(\"Частота\", size=16)                \n",
    "    plt.grid(True, alpha=0.3, linestyle=\"--\")\n",
    "    plt.show()"
   ]
  },
  {
   "cell_type": "code",
   "execution_count": 3,
   "id": "e5be39f8",
   "metadata": {},
   "outputs": [
    {
     "data": {
      "text/html": [
       "<div>\n",
       "<style scoped>\n",
       "    .dataframe tbody tr th:only-of-type {\n",
       "        vertical-align: middle;\n",
       "    }\n",
       "\n",
       "    .dataframe tbody tr th {\n",
       "        vertical-align: top;\n",
       "    }\n",
       "\n",
       "    .dataframe thead th {\n",
       "        text-align: right;\n",
       "    }\n",
       "</style>\n",
       "<table border=\"1\" class=\"dataframe\">\n",
       "  <thead>\n",
       "    <tr style=\"text-align: right;\">\n",
       "      <th></th>\n",
       "      <th>tik</th>\n",
       "      <th>Число избирателей, внесенных в список избирателей на момент окончания голосования</th>\n",
       "    </tr>\n",
       "  </thead>\n",
       "  <tbody>\n",
       "    <tr>\n",
       "      <th>0</th>\n",
       "      <td>Алтайская</td>\n",
       "      <td>385</td>\n",
       "    </tr>\n",
       "    <tr>\n",
       "      <th>1</th>\n",
       "      <td>Алтайская</td>\n",
       "      <td>1515</td>\n",
       "    </tr>\n",
       "    <tr>\n",
       "      <th>2</th>\n",
       "      <td>Алтайская</td>\n",
       "      <td>1175</td>\n",
       "    </tr>\n",
       "    <tr>\n",
       "      <th>3</th>\n",
       "      <td>Алтайская</td>\n",
       "      <td>2257</td>\n",
       "    </tr>\n",
       "    <tr>\n",
       "      <th>4</th>\n",
       "      <td>Алтайская</td>\n",
       "      <td>1924</td>\n",
       "    </tr>\n",
       "    <tr>\n",
       "      <th>...</th>\n",
       "      <td>...</td>\n",
       "      <td>...</td>\n",
       "    </tr>\n",
       "    <tr>\n",
       "      <th>96320</th>\n",
       "      <td>Нахимовская</td>\n",
       "      <td>2286</td>\n",
       "    </tr>\n",
       "    <tr>\n",
       "      <th>96321</th>\n",
       "      <td>Нахимовская</td>\n",
       "      <td>1589</td>\n",
       "    </tr>\n",
       "    <tr>\n",
       "      <th>96322</th>\n",
       "      <td>Нахимовская</td>\n",
       "      <td>1333</td>\n",
       "    </tr>\n",
       "    <tr>\n",
       "      <th>96323</th>\n",
       "      <td>Нахимовская</td>\n",
       "      <td>1235</td>\n",
       "    </tr>\n",
       "    <tr>\n",
       "      <th>96324</th>\n",
       "      <td>Нахимовская</td>\n",
       "      <td>992</td>\n",
       "    </tr>\n",
       "  </tbody>\n",
       "</table>\n",
       "<p>96325 rows × 2 columns</p>\n",
       "</div>"
      ],
      "text/plain": [
       "               tik  \\\n",
       "0        Алтайская   \n",
       "1        Алтайская   \n",
       "2        Алтайская   \n",
       "3        Алтайская   \n",
       "4        Алтайская   \n",
       "...            ...   \n",
       "96320  Нахимовская   \n",
       "96321  Нахимовская   \n",
       "96322  Нахимовская   \n",
       "96323  Нахимовская   \n",
       "96324  Нахимовская   \n",
       "\n",
       "       Число избирателей, внесенных в список избирателей на момент окончания голосования  \n",
       "0                                                    385                                  \n",
       "1                                                   1515                                  \n",
       "2                                                   1175                                  \n",
       "3                                                   2257                                  \n",
       "4                                                   1924                                  \n",
       "...                                                  ...                                  \n",
       "96320                                               2286                                  \n",
       "96321                                               1589                                  \n",
       "96322                                               1333                                  \n",
       "96323                                               1235                                  \n",
       "96324                                                992                                  \n",
       "\n",
       "[96325 rows x 2 columns]"
      ]
     },
     "execution_count": 3,
     "metadata": {},
     "output_type": "execute_result"
    }
   ],
   "source": [
    "# Формируем DataFrame\n",
    "\n",
    "path =\"~/Downloads/russia.ods\"\n",
    "raw_df = pd.read_excel(path, engine = 'odf')\n",
    "raw_df[['tik', 'Число избирателей, внесенных в список избирателей на момент окончания голосования']]"
   ]
  },
  {
   "cell_type": "code",
   "execution_count": 5,
   "id": "c328bd17",
   "metadata": {},
   "outputs": [
    {
     "name": "stdout",
     "output_type": "stream",
     "text": [
      "0         385\n",
      "1        1515\n",
      "2        1175\n",
      "3        2257\n",
      "4        1924\n",
      "         ... \n",
      "96320    2286\n",
      "96321    1589\n",
      "96322    1333\n",
      "96323    1235\n",
      "96324     992\n",
      "Name: Число избирателей, внесенных в список избирателей на момент окончания голосования, Length: 96325, dtype: int64\n"
     ]
    }
   ],
   "source": [
    "# Формируем отдельный DataFrame только с кол-вом избирателей для расчётов\n",
    "\n",
    "raw_voters = raw_df['Число избирателей, внесенных в список избирателей на момент окончания голосования']\n",
    "print(raw_voters)\n"
   ]
  },
  {
   "cell_type": "code",
   "execution_count": 6,
   "id": "192a2887",
   "metadata": {},
   "outputs": [
    {
     "name": "stdout",
     "output_type": "stream",
     "text": [
      "Объем выборки N = 594\n"
     ]
    }
   ],
   "source": [
    "# Считаем объем выборки по формуле\n",
    "\n",
    "N=int((1.95**2*0.5*0.5)/0.04**2)\n",
    "print('Объем выборки N =',N)"
   ]
  },
  {
   "cell_type": "code",
   "execution_count": 7,
   "id": "bae7f596",
   "metadata": {},
   "outputs": [
    {
     "name": "stdout",
     "output_type": "stream",
     "text": [
      "Количество избирателей =  96325\n",
      "Математическое ожидание =  1133.7104801453413\n",
      "Дисперсия смещённая =  3664191.336474116\n",
      "Sigma =  1914.2176931446295\n",
      "x3 Sigma =  5742.653079433889\n"
     ]
    }
   ],
   "source": [
    "# Проводим необходимые для выборок и анализа расчёты \n",
    "\n",
    "n = len(raw_voters)        # Кол-во избирателей\n",
    "mean = (sum(raw_voters)/n) # Мат.ожидание по количеству избирателей\n",
    "print('Количество избирателей = ', n)\n",
    "print('Математическое ожидание = ', mean)\n",
    "\n",
    "shifted_dispersion = sum((i-mean)**2 for i in raw_voters)/n\n",
    "print('Дисперсия смещённая = ', shifted_dispersion)\n",
    "\n",
    "dispersion = n*shifted_dispersion/(n-1) # Не смещённая дисперсия\n",
    "\n",
    "sigma = ms.sqrt(dispersion) # Среднеквадратичное отклонение\n",
    "print('Sigma = ', sigma)\n",
    "triple_sigma = sigma*3\n",
    "print('x3 Sigma = ', triple_sigma)\n"
   ]
  },
  {
   "cell_type": "code",
   "execution_count": 8,
   "id": "f591adca",
   "metadata": {
    "scrolled": true
   },
   "outputs": [],
   "source": [
    "df_array = np.array(raw_voters) # Переводим сырой DataFrame избирателей в массив\n",
    "\n",
    "standart_deviation = np.std(df_array) # Стандартное отклонение\n"
   ]
  },
  {
   "cell_type": "code",
   "execution_count": 9,
   "id": "0721e10e",
   "metadata": {},
   "outputs": [
    {
     "name": "stdout",
     "output_type": "stream",
     "text": [
      "[ 385 1515 1175 ... 1333 1235  992]\n",
      "Левая х3 Sigma = -4608.942599288547\n",
      "Правая x3 Sigma =  6876.36355957923\n",
      "\n",
      "Вероятность того, что значение нормально распределённой случайной величины лежит в указанном интервале=  99.96366467687517 %\n",
      "\n",
      "       raw_voters                reg\n",
      "0             385     Алтайский край\n",
      "1            1515     Алтайский край\n",
      "2            1175     Алтайский край\n",
      "3            2257     Алтайский край\n",
      "4            1924     Алтайский край\n",
      "...           ...                ...\n",
      "96320        2286  город Севастополь\n",
      "96321        1589  город Севастополь\n",
      "96322        1333  город Севастополь\n",
      "96323        1235  город Севастополь\n",
      "96324         992  город Севастополь\n",
      "\n",
      "[96290 rows x 2 columns]\n"
     ]
    }
   ],
   "source": [
    "# Чистим генеральную выборку через x3 Sigma\n",
    "\n",
    "elements = np.array(raw_voters)\n",
    "print(elements)\n",
    "mean = np.mean(elements, axis=0) # Среднее по массиву избирателей\n",
    "std = np.std(elements, axis=0) # Standart Deviation / Нормальное отклонение\n",
    "\n",
    "data =np.array(raw_voters)\n",
    "\n",
    "df = pd.DataFrame({\n",
    "                'raw_voters': raw_df['Число избирателей, внесенных в список избирателей на момент окончания голосования'].tolist(),\n",
    "                'reg': raw_df['reg'].tolist()}\n",
    "                  )\n",
    "triple_sigma_left= df['raw_voters'].mean() - 3 * sigma\n",
    "print ('Левая х3 Sigma =',triple_sigma_left)\n",
    "\n",
    "\n",
    "triple_sigma_right= df['raw_voters'].mean() + 3 * sigma\n",
    "print ('Правая x3 Sigma = ',triple_sigma_right)\n",
    "\n",
    "\n",
    "df=df.loc[(df['raw_voters'] >mean-3 * sigma) & (df['raw_voters'] <mean+3 * sigma)]\n",
    "\n",
    "probability = len(df)/(len(raw_df)/100)\n",
    "print('\\nВероятность того, что значение нормально распределённой случайной величины лежит в указанном интервале= ', probability,'%\\n' )\n",
    "\n",
    "print(df)"
   ]
  },
  {
   "cell_type": "code",
   "execution_count": 10,
   "id": "8a82a337-18e8-4dd4-8609-fc72eb82f113",
   "metadata": {},
   "outputs": [
    {
     "data": {
      "text/html": [
       "<div>\n",
       "<style scoped>\n",
       "    .dataframe tbody tr th:only-of-type {\n",
       "        vertical-align: middle;\n",
       "    }\n",
       "\n",
       "    .dataframe tbody tr th {\n",
       "        vertical-align: top;\n",
       "    }\n",
       "\n",
       "    .dataframe thead th {\n",
       "        text-align: right;\n",
       "    }\n",
       "</style>\n",
       "<table border=\"1\" class=\"dataframe\">\n",
       "  <thead>\n",
       "    <tr style=\"text-align: right;\">\n",
       "      <th></th>\n",
       "      <th>index</th>\n",
       "      <th>raw_voters</th>\n",
       "      <th>reg</th>\n",
       "    </tr>\n",
       "  </thead>\n",
       "  <tbody>\n",
       "    <tr>\n",
       "      <th>0</th>\n",
       "      <td>0</td>\n",
       "      <td>385</td>\n",
       "      <td>Алтайский край</td>\n",
       "    </tr>\n",
       "    <tr>\n",
       "      <th>1</th>\n",
       "      <td>1</td>\n",
       "      <td>1515</td>\n",
       "      <td>Алтайский край</td>\n",
       "    </tr>\n",
       "    <tr>\n",
       "      <th>2</th>\n",
       "      <td>2</td>\n",
       "      <td>1175</td>\n",
       "      <td>Алтайский край</td>\n",
       "    </tr>\n",
       "    <tr>\n",
       "      <th>3</th>\n",
       "      <td>3</td>\n",
       "      <td>2257</td>\n",
       "      <td>Алтайский край</td>\n",
       "    </tr>\n",
       "    <tr>\n",
       "      <th>4</th>\n",
       "      <td>4</td>\n",
       "      <td>1924</td>\n",
       "      <td>Алтайский край</td>\n",
       "    </tr>\n",
       "    <tr>\n",
       "      <th>...</th>\n",
       "      <td>...</td>\n",
       "      <td>...</td>\n",
       "      <td>...</td>\n",
       "    </tr>\n",
       "    <tr>\n",
       "      <th>96285</th>\n",
       "      <td>96320</td>\n",
       "      <td>2286</td>\n",
       "      <td>город Севастополь</td>\n",
       "    </tr>\n",
       "    <tr>\n",
       "      <th>96286</th>\n",
       "      <td>96321</td>\n",
       "      <td>1589</td>\n",
       "      <td>город Севастополь</td>\n",
       "    </tr>\n",
       "    <tr>\n",
       "      <th>96287</th>\n",
       "      <td>96322</td>\n",
       "      <td>1333</td>\n",
       "      <td>город Севастополь</td>\n",
       "    </tr>\n",
       "    <tr>\n",
       "      <th>96288</th>\n",
       "      <td>96323</td>\n",
       "      <td>1235</td>\n",
       "      <td>город Севастополь</td>\n",
       "    </tr>\n",
       "    <tr>\n",
       "      <th>96289</th>\n",
       "      <td>96324</td>\n",
       "      <td>992</td>\n",
       "      <td>город Севастополь</td>\n",
       "    </tr>\n",
       "  </tbody>\n",
       "</table>\n",
       "<p>96290 rows × 3 columns</p>\n",
       "</div>"
      ],
      "text/plain": [
       "       index  raw_voters                reg\n",
       "0          0         385     Алтайский край\n",
       "1          1        1515     Алтайский край\n",
       "2          2        1175     Алтайский край\n",
       "3          3        2257     Алтайский край\n",
       "4          4        1924     Алтайский край\n",
       "...      ...         ...                ...\n",
       "96285  96320        2286  город Севастополь\n",
       "96286  96321        1589  город Севастополь\n",
       "96287  96322        1333  город Севастополь\n",
       "96288  96323        1235  город Севастополь\n",
       "96289  96324         992  город Севастополь\n",
       "\n",
       "[96290 rows x 3 columns]"
      ]
     },
     "execution_count": 10,
     "metadata": {},
     "output_type": "execute_result"
    }
   ],
   "source": [
    "df=df.reset_index()\n",
    "df"
   ]
  },
  {
   "cell_type": "code",
   "execution_count": 9,
   "id": "afbec985",
   "metadata": {},
   "outputs": [
    {
     "name": "stdout",
     "output_type": "stream",
     "text": [
      "\n",
      "МЕХАНИЧЕСКАЯ ВЫБОРКА\n",
      "\n",
      "Шаг выборки =  162 \n",
      "\n",
      "       raw_voters                    reg\n",
      "0             385         Алтайский край\n",
      "162           988         Алтайский край\n",
      "324          1044         Алтайский край\n",
      "486            81         Алтайский край\n",
      "648           404         Алтайский край\n",
      "...           ...                    ...\n",
      "95614        2419  город Санкт-Петербург\n",
      "95776        2987  город Санкт-Петербург\n",
      "95938        2753  город Санкт-Петербург\n",
      "96100        2540  город Санкт-Петербург\n",
      "96263        1806      город Севастополь\n",
      "\n",
      "[595 rows x 2 columns]\n",
      "\n",
      " Мат.ожидание по генеральной выборке = 1133.7104801453413\n",
      "\n",
      "Среднее значение данной выборки =  1147.1966386554623\n",
      "\n",
      "Нормальное отклонение  данной выборки =  812.4359946277935\n"
     ]
    },
    {
     "data": {
      "image/png": "[encoded data removed]",
      "text/plain": [
       "<Figure size 432x288 with 1 Axes>"
      ]
     },
     "metadata": {
      "needs_background": "light"
     },
     "output_type": "display_data"
    }
   ],
   "source": [
    "\n",
    "print(\"\\nМЕХАНИЧЕСКАЯ ВЫБОРКА\")\n",
    "\n",
    "count = int(n/N) # Делим кол-во избирателей на объем выборки\n",
    "print('\\nШаг выборки = ', count, '\\n')\n",
    "\n",
    "\n",
    "mechanical_df = df.iloc[::count] # Создаем из генеральной выборки механическую, оставляя только каждый 162-ой элемент\n",
    "print(mechanical_df)\n",
    "\n",
    "print('\\n Мат.ожидание по генеральной выборке =', mean)\n",
    "\n",
    "mech_voters = np.array(mechanical_df[\"raw_voters\"])\n",
    "\n",
    "normal_plot(mechanical_df, mech_voters)"
   ]
  },
  {
   "cell_type": "code",
   "execution_count": 10,
   "id": "2bca6e4f",
   "metadata": {},
   "outputs": [
    {
     "name": "stdout",
     "output_type": "stream",
     "text": [
      "\n",
      "СЛУЧАЙНАЯ ВЫБОРКА\n",
      "\n",
      "       raw_voters                            reg\n",
      "1172          142                 Алтайский край\n",
      "96250        1948              город Севастополь\n",
      "50215         288        Республика Башкортостан\n",
      "8423          708          Волгоградская область\n",
      "31884        1798             Московская область\n",
      "...           ...                            ...\n",
      "67115         415              Рязанская область\n",
      "2121          426               Амурская область\n",
      "18300        1039  Кемеровская область - Кузбасс\n",
      "95791        2185          город Санкт-Петербург\n",
      "83901         569               Хабаровский край\n",
      "\n",
      "[594 rows x 2 columns]\n",
      "\n",
      " Мат.ожидание по генеральной выборке = 1133.7104801453413\n",
      "\n",
      "Среднее значение данной выборки =  1151.0218855218855\n",
      "\n",
      "Нормальное отклонение  данной выборки =  812.7477925337588\n"
     ]
    },
    {
     "data": {
      "image/png": "[encoded data removed]",
      "text/plain": [
       "<Figure size 432x288 with 1 Axes>"
      ]
     },
     "metadata": {
      "needs_background": "light"
     },
     "output_type": "display_data"
    }
   ],
   "source": [
    "# Случайная выборка\n",
    "\n",
    "print('\\nСЛУЧАЙНАЯ ВЫБОРКА\\n')\n",
    "\n",
    "random_df=df.sample(N) # С помощью sample генерируем случайный DataFrame с размер выборки\n",
    "print(random_df)\n",
    "\n",
    "print('\\n Мат.ожидание по генеральной выборке =', mean)\n",
    "\n",
    "random_voters = np.array(random_df[\"raw_voters\"])\n",
    "normal_plot(random_df, random_voters)"
   ]
  },
  {
   "cell_type": "code",
   "execution_count": 11,
   "id": "0251f960",
   "metadata": {},
   "outputs": [
    {
     "name": "stdout",
     "output_type": "stream",
     "text": [
      "\n",
      "ТИПИЧЕСКАЯ ВЫБОРКА\n",
      "\n",
      "Минимальное кол-во избирателей в выборке =  0\n",
      "Максимальное кол-во избирателей в выборке =  5260\n",
      "Кол-во выделенных групп =  17 \n",
      "\n",
      "       raw_voters                               reg  Группа\n",
      "27578         211                   Курская область       1\n",
      "25559         183                 Красноярский край       1\n",
      "61348         264  Республика Татарстан (Татарстан)       1\n",
      "41566         125                    Омская область       1\n",
      "3049          276             Архангельская область       1\n",
      "...           ...                               ...     ...\n",
      "63633        3002  Республика Татарстан (Татарстан)      10\n",
      "72668        3014              Свердловская область      10\n",
      "58119        2881                   Республика Крым      10\n",
      "45889        2797                     Пермский край      10\n",
      "68565        3098                 Самарская область      11\n",
      "\n",
      "[592 rows x 3 columns]\n",
      "\n",
      " Мат.ожидание по генеральной выборке = 1133.7104801453413\n",
      "\n",
      "Среднее значение данной выборки =  1063.462837837838\n",
      "\n",
      "Нормальное отклонение  данной выборки =  786.2626542427226\n"
     ]
    },
    {
     "data": {
      "image/png": "[encoded data removed]",
      "text/plain": [
       "<Figure size 432x288 with 1 Axes>"
      ]
     },
     "metadata": {
      "needs_background": "light"
     },
     "output_type": "display_data"
    }
   ],
   "source": [
    "# Типическая выборка\n",
    "print('\\nТИПИЧЕСКАЯ ВЫБОРКА\\n')\n",
    "\n",
    "type_df = df.loc[~df['reg'].isin([\"город Санкт-Петербург\", \"город Москва\"])]\n",
    "\n",
    "type_df = type_df.reset_index(drop=True)\n",
    "\n",
    "min_value=type_df.min()[0]\n",
    "max_value=type_df.max()[0]\n",
    "\n",
    "print(\"Минимальное кол-во избирателей в выборке = \", min_value)\n",
    "print(\"Максимальное кол-во избирателей в выборке = \", max_value)\n",
    "\n",
    "# Считаем кол-во групп по формуле\n",
    "group_N = int(1+3.322*ms.log10(n))\n",
    "print(\"Кол-во выделенных групп = \", group_N,'\\n')\n",
    "group_border=(max_value-min_value)/group_N\n",
    "\n",
    "# Присваем каждой строчке группу\n",
    "raw_groups = []\n",
    "groups_counter=[]\n",
    "\n",
    "#Создаем семнадцать значение по которым кол-ва избирателей будут сортироваться по группам\n",
    "for i in range(group_N+1):\n",
    "    groups_counter.append(group_border*i)\n",
    "\n",
    "#Сортировка по каждой строчке\n",
    "for i in range(len(type_df)):\n",
    "    j=0\n",
    "    while (j<len(groups_counter)):\n",
    "        if(type_df['raw_voters'][i]<=groups_counter[j]):\n",
    "            raw_groups.append(j)\n",
    "            break\n",
    "        else:\n",
    "            j+=1\n",
    "\n",
    "# Добавляем к ещё сырой выборке столбец со значением группы для каждого кол-ва избирателей\n",
    "type_df['Группа'] = raw_groups\n",
    "\n",
    "\n",
    "# Механический сэмплинг из каждой группы\n",
    "mechanical_sampling=type_df.groupby('Группа', group_keys=False).apply(lambda x: x.sample(frac=N/len(type_df)))\n",
    "\n",
    "print(mechanical_sampling)\n",
    "\n",
    "print('\\n Мат.ожидание по генеральной выборке =', mean)\n",
    "\n",
    "type_voters = np.array(mechanical_sampling[\"raw_voters\"])\n",
    "normal_plot(mechanical_sampling, type_voters)\n"
   ]
  }
 ],
 "metadata": {
  "kernelspec": {
   "display_name": "Python 3 (ipykernel)",
   "language": "python",
   "name": "python3"
  },
  "language_info": {
   "codemirror_mode": {
    "name": "ipython",
    "version": 3
   },
   "file_extension": ".py",
   "mimetype": "text/x-python",
   "name": "python",
   "nbconvert_exporter": "python",
   "pygments_lexer": "ipython3",
   "version": "3.9.12"
  }
 },
 "nbformat": 4,
 "nbformat_minor": 5
}
